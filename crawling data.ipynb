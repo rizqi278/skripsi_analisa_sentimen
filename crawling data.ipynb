{
 "cells": [
  {
   "cell_type": "code",
   "execution_count": null,
   "metadata": {},
   "outputs": [],
   "source": [
    "import tweepy\n",
    "import pandas as pd\n",
    "import csv"
   ]
  },
  {
   "cell_type": "markdown",
   "metadata": {},
   "source": [
    "# memasukkan API twitter untuk mengambil data tweet\n",
    "didapatkan dengan dari situs twitter developer"
   ]
  },
  {
   "cell_type": "code",
   "execution_count": null,
   "metadata": {},
   "outputs": [],
   "source": [
    "consumer_key = 'TP0lirVysyyG4XyNk5jWJGKTG'\n",
    "consumer_key_secret = 'nC7uLIsNUhnT0PwXGyr6nxhOczS8Nr80dLlHlfC6EZQmklO2ca'\n",
    "access_token = '1328555638209671169-NgMgrbkNHfKCFpNMyjeKbAPEyyhAM6'\n",
    "access_token_secret = '8lMitDmRWfbXqnAiNl7cNxzyPXkY4mOIG8LC93elrkMLL'\n",
    "\n",
    "auth = tweepy.OAuthHandler(consumer_key, consumer_key_secret)\n",
    "auth.set_access_token(access_token, access_token_secret)\n",
    "api = tweepy.API(auth)"
   ]
  },
  {
   "cell_type": "markdown",
   "metadata": {},
   "source": [
    "# proses pengambilan data dan menyimpan"
   ]
  },
  {
   "cell_type": "code",
   "execution_count": null,
   "metadata": {},
   "outputs": [],
   "source": [
    "csvFile=open('data_tweet1.csv', 'a', encoding='utf-8')\n",
    "csvWriter=csv.writer(csvFile)"
   ]
  },
  {
   "cell_type": "code",
   "execution_count": null,
   "metadata": {},
   "outputs": [],
   "source": [
    "import csv\n",
    "f=csvWriter.writerow ([\"txt\",\"analysis\"])\n",
    "for tweet in tweepy.Cursor(api.search, q='GeNose -filter:retweets', tweet_mode=\"extended\", lang=\"id\").items(100):\n",
    "    tweett = tweet.full_text\n",
    "    print(tweet.full_text)\n",
    "    csvWriter.writerow([tweet.full_text])"
   ]
  },
  {
   "cell_type": "code",
   "execution_count": null,
   "metadata": {},
   "outputs": [],
   "source": [
    "df = pd.read_csv('data_tweet1.csv', encoding='utf-8')"
   ]
  },
  {
   "cell_type": "code",
   "execution_count": null,
   "metadata": {},
   "outputs": [],
   "source": [
    "df"
   ]
  },
  {
   "cell_type": "code",
   "execution_count": null,
   "metadata": {},
   "outputs": [],
   "source": []
  }
 ],
 "metadata": {
  "kernelspec": {
   "display_name": "Python 3",
   "language": "python",
   "name": "python3"
  },
  "language_info": {
   "codemirror_mode": {
    "name": "ipython",
    "version": 3
   },
   "file_extension": ".py",
   "mimetype": "text/x-python",
   "name": "python",
   "nbconvert_exporter": "python",
   "pygments_lexer": "ipython3",
   "version": "3.8.5"
  }
 },
 "nbformat": 4,
 "nbformat_minor": 4
}
